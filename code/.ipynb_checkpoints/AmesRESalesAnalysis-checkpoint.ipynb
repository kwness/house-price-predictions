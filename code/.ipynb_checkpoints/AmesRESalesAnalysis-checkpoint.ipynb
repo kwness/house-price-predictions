{
 "cells": [
  {
   "cell_type": "markdown",
   "id": "dbb0b6dd-c013-4f7f-a2ea-557501e7e19c",
   "metadata": {},
   "source": [
    "<img src=\"http://imgur.com/1ZcRyrc.png\" style=\"float: left; margin: 20px; height: 55px\">\n",
    "\n",
    "# Project 2: Ames Housing Data Analysis\n",
    "###  Author: Kyle Ness"
   ]
  },
  {
   "cell_type": "markdown",
   "id": "fb6c67b1-716e-4c2c-b82b-d19240a34f62",
   "metadata": {},
   "source": [
    "## Problem Statement"
   ]
  },
  {
   "cell_type": "markdown",
   "id": "8ca08ff7-5dfb-4be5-803e-fdfbd5670e5f",
   "metadata": {},
   "source": [
    "There are a lot of factors that go into the pricing of residential real estate. Some of these may be obvious and their effects on price well-known, like the total area of a home in square feet or the number of bedrooms and baths the house has. Others, however, may be more abstract or subjectively valued, like whether a house has a masonry veneer or how long the frontage of the house's lot is. Further, there may be many significant interactions between the independent variables of a house that also affect valuation. \n",
    "\n",
    "In analyzing the Ames, Iowa housing dataset consisting of 2,051 observations on 80 independent variables for homes sold between 2006 and 2010, it should be possible to arrive at a model that will accurately estimate a given home's sale price despite the complexity of the task. Through discovery of this model, this report seeks to help the average homeowner be more informed about their property's value and valuations in residential real estate markets in general. Success in this pursuit will be determined by coming to a model that outperforms the baseline median sale price model (assumed to have an R^2 value of 0). This best-performing model can then be used by homeowners to predict their own home's potential sale price by plugging in its characteristics. Additionally, this analysis will reveal the most important features in home valuation, which may greatly aid prospective renovators in getting the best bang for their buck.\n",
    "\n",
    "Linear regression, Ridge regression, and Lasso regression models will be explored. Variants of linear regression models may be looked into by selecting for specific features. "
   ]
  },
  {
   "cell_type": "markdown",
   "id": "52583e9d-a227-4a2d-8e2a-e5be073690e2",
   "metadata": {},
   "source": [
    "### Contents:\n",
    "- [Data Import and Cleaning](#Data-Import-and-Cleaning)\n",
    "- [Feature Engineering](#Feature-Engineering)\n",
    "- [Exploratory Data Analysis](#Exploratory-Data-Analysis)\n",
    "- [Model Creation and Evaluation](#Model-Creation-and-Evaluation)\n",
    "- [Conclusions and Recommendations](#Conclusions-and-Recommendations)"
   ]
  },
  {
   "cell_type": "markdown",
   "id": "3dc4edeb-76da-45ae-adaa-e25d038bba9a",
   "metadata": {},
   "source": [
    "## Data Import and Cleaning"
   ]
  },
  {
   "cell_type": "code",
   "execution_count": 46,
   "id": "60ec49ca-c449-441f-b7c4-9e1972ddd0bd",
   "metadata": {},
   "outputs": [],
   "source": [
    "#Library Imports\n",
    "import pandas as pd\n",
    "import numpy as np\n",
    "import seaborn as sns\n",
    "import matplotlib.pyplot as plt\n",
    "from sklearn.model_selection import train_test_split, cross_val_score\n",
    "from sklearn.linear_model import LinearRegression\n",
    "from sklearn.preprocessing import StandardScaler\n",
    "from sklearn.linear_model import RidgeCV, Lasso, LassoCV\n",
    "\n",
    "#Lasso model below was spewing convergence warnings\n",
    "from warnings import simplefilter\n",
    "from sklearn.exceptions import ConvergenceWarning\n",
    "simplefilter(\"ignore\", category=ConvergenceWarning)\n",
    "\n",
    "%matplotlib inline "
   ]
  },
  {
   "cell_type": "code",
   "execution_count": 2,
   "id": "83e52e66-7cdb-46b1-bc76-025ba0362ae6",
   "metadata": {},
   "outputs": [
    {
     "data": {
      "text/plain": [
       "[(2051, 81), (878, 80)]"
      ]
     },
     "execution_count": 2,
     "metadata": {},
     "output_type": "execute_result"
    }
   ],
   "source": [
    "#Reading in datasets provided for this analysis.\n",
    "train = pd.read_csv('../datasets/train.csv')\n",
    "test = pd.read_csv('../datasets/test.csv')\n",
    "\n",
    "train.columns = train.columns.str.lower().str.replace(' ', '_')\n",
    "test.columns = test.columns.str.lower().str.replace(' ', '_')\n",
    "\n",
    "sizes = [train.shape, test.shape]\n",
    "sizes"
   ]
  },
  {
   "cell_type": "code",
   "execution_count": 3,
   "id": "a44dbc45-0600-496c-ae5d-ca502f4441d1",
   "metadata": {},
   "outputs": [
    {
     "data": {
      "text/html": [
       "<div>\n",
       "<style scoped>\n",
       "    .dataframe tbody tr th:only-of-type {\n",
       "        vertical-align: middle;\n",
       "    }\n",
       "\n",
       "    .dataframe tbody tr th {\n",
       "        vertical-align: top;\n",
       "    }\n",
       "\n",
       "    .dataframe thead th {\n",
       "        text-align: right;\n",
       "    }\n",
       "</style>\n",
       "<table border=\"1\" class=\"dataframe\">\n",
       "  <thead>\n",
       "    <tr style=\"text-align: right;\">\n",
       "      <th></th>\n",
       "      <th>id</th>\n",
       "      <th>pid</th>\n",
       "      <th>ms_subclass</th>\n",
       "      <th>ms_zoning</th>\n",
       "      <th>lot_frontage</th>\n",
       "      <th>lot_area</th>\n",
       "      <th>street</th>\n",
       "      <th>alley</th>\n",
       "      <th>lot_shape</th>\n",
       "      <th>land_contour</th>\n",
       "      <th>...</th>\n",
       "      <th>screen_porch</th>\n",
       "      <th>pool_area</th>\n",
       "      <th>pool_qc</th>\n",
       "      <th>fence</th>\n",
       "      <th>misc_feature</th>\n",
       "      <th>misc_val</th>\n",
       "      <th>mo_sold</th>\n",
       "      <th>yr_sold</th>\n",
       "      <th>sale_type</th>\n",
       "      <th>saleprice</th>\n",
       "    </tr>\n",
       "  </thead>\n",
       "  <tbody>\n",
       "    <tr>\n",
       "      <th>0</th>\n",
       "      <td>109</td>\n",
       "      <td>533352170</td>\n",
       "      <td>60</td>\n",
       "      <td>RL</td>\n",
       "      <td>NaN</td>\n",
       "      <td>13517</td>\n",
       "      <td>Pave</td>\n",
       "      <td>NaN</td>\n",
       "      <td>IR1</td>\n",
       "      <td>Lvl</td>\n",
       "      <td>...</td>\n",
       "      <td>0</td>\n",
       "      <td>0</td>\n",
       "      <td>NaN</td>\n",
       "      <td>NaN</td>\n",
       "      <td>NaN</td>\n",
       "      <td>0</td>\n",
       "      <td>3</td>\n",
       "      <td>2010</td>\n",
       "      <td>WD</td>\n",
       "      <td>130500</td>\n",
       "    </tr>\n",
       "    <tr>\n",
       "      <th>1</th>\n",
       "      <td>544</td>\n",
       "      <td>531379050</td>\n",
       "      <td>60</td>\n",
       "      <td>RL</td>\n",
       "      <td>43.0</td>\n",
       "      <td>11492</td>\n",
       "      <td>Pave</td>\n",
       "      <td>NaN</td>\n",
       "      <td>IR1</td>\n",
       "      <td>Lvl</td>\n",
       "      <td>...</td>\n",
       "      <td>0</td>\n",
       "      <td>0</td>\n",
       "      <td>NaN</td>\n",
       "      <td>NaN</td>\n",
       "      <td>NaN</td>\n",
       "      <td>0</td>\n",
       "      <td>4</td>\n",
       "      <td>2009</td>\n",
       "      <td>WD</td>\n",
       "      <td>220000</td>\n",
       "    </tr>\n",
       "    <tr>\n",
       "      <th>2</th>\n",
       "      <td>153</td>\n",
       "      <td>535304180</td>\n",
       "      <td>20</td>\n",
       "      <td>RL</td>\n",
       "      <td>68.0</td>\n",
       "      <td>7922</td>\n",
       "      <td>Pave</td>\n",
       "      <td>NaN</td>\n",
       "      <td>Reg</td>\n",
       "      <td>Lvl</td>\n",
       "      <td>...</td>\n",
       "      <td>0</td>\n",
       "      <td>0</td>\n",
       "      <td>NaN</td>\n",
       "      <td>NaN</td>\n",
       "      <td>NaN</td>\n",
       "      <td>0</td>\n",
       "      <td>1</td>\n",
       "      <td>2010</td>\n",
       "      <td>WD</td>\n",
       "      <td>109000</td>\n",
       "    </tr>\n",
       "    <tr>\n",
       "      <th>3</th>\n",
       "      <td>318</td>\n",
       "      <td>916386060</td>\n",
       "      <td>60</td>\n",
       "      <td>RL</td>\n",
       "      <td>73.0</td>\n",
       "      <td>9802</td>\n",
       "      <td>Pave</td>\n",
       "      <td>NaN</td>\n",
       "      <td>Reg</td>\n",
       "      <td>Lvl</td>\n",
       "      <td>...</td>\n",
       "      <td>0</td>\n",
       "      <td>0</td>\n",
       "      <td>NaN</td>\n",
       "      <td>NaN</td>\n",
       "      <td>NaN</td>\n",
       "      <td>0</td>\n",
       "      <td>4</td>\n",
       "      <td>2010</td>\n",
       "      <td>WD</td>\n",
       "      <td>174000</td>\n",
       "    </tr>\n",
       "    <tr>\n",
       "      <th>4</th>\n",
       "      <td>255</td>\n",
       "      <td>906425045</td>\n",
       "      <td>50</td>\n",
       "      <td>RL</td>\n",
       "      <td>82.0</td>\n",
       "      <td>14235</td>\n",
       "      <td>Pave</td>\n",
       "      <td>NaN</td>\n",
       "      <td>IR1</td>\n",
       "      <td>Lvl</td>\n",
       "      <td>...</td>\n",
       "      <td>0</td>\n",
       "      <td>0</td>\n",
       "      <td>NaN</td>\n",
       "      <td>NaN</td>\n",
       "      <td>NaN</td>\n",
       "      <td>0</td>\n",
       "      <td>3</td>\n",
       "      <td>2010</td>\n",
       "      <td>WD</td>\n",
       "      <td>138500</td>\n",
       "    </tr>\n",
       "  </tbody>\n",
       "</table>\n",
       "<p>5 rows × 81 columns</p>\n",
       "</div>"
      ],
      "text/plain": [
       "    id        pid  ms_subclass ms_zoning  lot_frontage  lot_area street alley  \\\n",
       "0  109  533352170           60        RL           NaN     13517   Pave   NaN   \n",
       "1  544  531379050           60        RL          43.0     11492   Pave   NaN   \n",
       "2  153  535304180           20        RL          68.0      7922   Pave   NaN   \n",
       "3  318  916386060           60        RL          73.0      9802   Pave   NaN   \n",
       "4  255  906425045           50        RL          82.0     14235   Pave   NaN   \n",
       "\n",
       "  lot_shape land_contour  ... screen_porch pool_area pool_qc fence  \\\n",
       "0       IR1          Lvl  ...            0         0     NaN   NaN   \n",
       "1       IR1          Lvl  ...            0         0     NaN   NaN   \n",
       "2       Reg          Lvl  ...            0         0     NaN   NaN   \n",
       "3       Reg          Lvl  ...            0         0     NaN   NaN   \n",
       "4       IR1          Lvl  ...            0         0     NaN   NaN   \n",
       "\n",
       "  misc_feature misc_val mo_sold yr_sold  sale_type  saleprice  \n",
       "0          NaN        0       3    2010        WD      130500  \n",
       "1          NaN        0       4    2009        WD      220000  \n",
       "2          NaN        0       1    2010        WD      109000  \n",
       "3          NaN        0       4    2010        WD      174000  \n",
       "4          NaN        0       3    2010        WD      138500  \n",
       "\n",
       "[5 rows x 81 columns]"
      ]
     },
     "execution_count": 3,
     "metadata": {},
     "output_type": "execute_result"
    }
   ],
   "source": [
    "pd.set_option(\"display.max_rows\", None, \"display.max_columns\", None) #Found in documentation -> shows entire pandas print out, used to see all columns.\n",
    "pd.set_option('display.max_rows', 20, 'display.max_columns', 20) #For sake of brevity, though, will limit print outs in this notebook for review.\n",
    "\n",
    "train.head()"
   ]
  },
  {
   "cell_type": "code",
   "execution_count": 4,
   "id": "ecf80da3-8936-4d5f-a79c-4b5fb605299b",
   "metadata": {
    "tags": []
   },
   "outputs": [
    {
     "data": {
      "text/plain": [
       "id                int64\n",
       "pid               int64\n",
       "ms_subclass       int64\n",
       "ms_zoning        object\n",
       "lot_frontage    float64\n",
       "                 ...   \n",
       "misc_val          int64\n",
       "mo_sold           int64\n",
       "yr_sold           int64\n",
       "sale_type        object\n",
       "saleprice         int64\n",
       "Length: 81, dtype: object"
      ]
     },
     "execution_count": 4,
     "metadata": {},
     "output_type": "execute_result"
    }
   ],
   "source": [
    "train.dtypes #Some dtypes need to be changed - see below."
   ]
  },
  {
   "cell_type": "code",
   "execution_count": 5,
   "id": "567e75e7-6ab3-4206-86af-be6c12598bf6",
   "metadata": {
    "tags": []
   },
   "outputs": [
    {
     "data": {
      "text/plain": [
       "id                0\n",
       "pid               0\n",
       "ms_subclass       0\n",
       "ms_zoning         0\n",
       "lot_frontage    330\n",
       "               ... \n",
       "misc_val          0\n",
       "mo_sold           0\n",
       "yr_sold           0\n",
       "sale_type         0\n",
       "saleprice         0\n",
       "Length: 81, dtype: int64"
      ]
     },
     "execution_count": 5,
     "metadata": {},
     "output_type": "execute_result"
    }
   ],
   "source": [
    "train.isnull().sum()"
   ]
  },
  {
   "cell_type": "code",
   "execution_count": 6,
   "id": "f13c5fac-6905-4eb6-9c75-14d986f70c4d",
   "metadata": {},
   "outputs": [],
   "source": [
    "#Here are all the columns in the training set that contained null values:\n",
    "nullcols = ['lot_frontage', 'alley', 'mas_vnr_type', 'mas_vnr_area', 'bsmt_qual', 'bsmt_cond', 'bsmt_exposure', \n",
    "            'bsmtfin_type_1', 'bsmtfin_sf_1', 'bsmtfin_type_2', 'bsmtfin_sf_2', 'bsmt_unf_sf', 'total_bsmt_sf', \n",
    "            'bsmt_full_bath', 'bsmt_half_bath', 'fireplace_qu', 'garage_type', 'garage_finish',\n",
    "            'garage_cars', 'garage_area', 'garage_qual', 'garage_cond', 'pool_qc', 'fence', 'misc_feature', 'garage_yr_blt']        "
   ]
  },
  {
   "cell_type": "code",
   "execution_count": 7,
   "id": "c8f45649-733d-42e8-b62e-af0486801ea2",
   "metadata": {},
   "outputs": [],
   "source": [
    "#Filling in missing values for all columns using the most likely candidate for what a missing value means in context - no rows are dropped here\n",
    "\n",
    "train[nullcols[0]].fillna(0, inplace=True) #NA Lot Frontage probably means no frontage at all\n",
    "\n",
    "train[nullcols[1]].fillna('None', inplace=True) #NA = no alley\n",
    "\n",
    "train[nullcols[2]].fillna('None', inplace=True)  #NA likely = no masonry veneer\n",
    "train[nullcols[3]].fillna(0, inplace = True)  #NA -> no masonry veneer -> no area -> 0 sq ft\n",
    "\n",
    "#Basement\n",
    "train[nullcols[4]].fillna('None', inplace=True) #NA = no basement\n",
    "train[nullcols[5]].fillna('None', inplace=True) #NA = no baseement8\n",
    "train[nullcols[6]].fillna('None', inplace=True)\n",
    "train[nullcols[7]].fillna('None', inplace=True)\n",
    "train[nullcols[8]].fillna(0, inplace=True)\n",
    "train[nullcols[9]].fillna('None', inplace=True)\n",
    "train[nullcols[10]].fillna(0, inplace=True)\n",
    "train[nullcols[11]].fillna(0, inplace=True)\n",
    "train[nullcols[12]].fillna(0, inplace=True) #NA = no basement, continuous variables\n",
    "train[nullcols[13]].fillna(0, inplace=True)\n",
    "train[nullcols[14]].fillna(0, inplace=True)\n",
    "\n",
    "train[nullcols[15]].fillna('None', inplace=True) #NA = no fireplace\n",
    "\n",
    "#Garage\n",
    "train[nullcols[16]].fillna('None', inplace = True) #No garage\n",
    "train[nullcols[17]].fillna('None', inplace=True) #NA = no garage\n",
    "train[nullcols[18]].fillna(0, inplace=True) #NA = no cars or no garage\n",
    "train[nullcols[19]].fillna(0, inplace=True)\n",
    "train[nullcols[20]].fillna('None', inplace=True)\n",
    "train[nullcols[21]].fillna('None', inplace=True)\n",
    "train[nullcols[25]].fillna(train.garage_yr_blt.median(), inplace = True)\n",
    "\n",
    "train[nullcols[22]].fillna('None', inplace=True) #NA = no pool\n",
    "\n",
    "train[nullcols[23]].fillna('None', inplace=True) #NA = no fence\n",
    "\n",
    "train[nullcols[24]].fillna('None', inplace=True) #NA = no misc features\n"
   ]
  },
  {
   "cell_type": "code",
   "execution_count": 8,
   "id": "6d56a36b-61a1-437b-bcd2-2d1fa27ea94a",
   "metadata": {},
   "outputs": [],
   "source": [
    "#Filling in missing values for the test set.\n",
    "\n",
    "test[nullcols[0]].fillna(0, inplace=True) #NA Lot Frontage probably means no frontage at all\n",
    "\n",
    "test[nullcols[1]].fillna('None', inplace=True) #NA = no alley\n",
    "\n",
    "test[nullcols[2]].fillna('None', inplace=True)  #NA likely = no masonry veneer\n",
    "test[nullcols[3]].fillna(0, inplace = True)  #NA -> no masonry veneer -> no area -> 0 sq ft\n",
    "\n",
    "#Basement\n",
    "test[nullcols[4]].fillna('None', inplace=True) #NA = no basement\n",
    "test[nullcols[5]].fillna('None', inplace=True) #NA = no baseement8\n",
    "test[nullcols[6]].fillna('None', inplace=True)\n",
    "test[nullcols[7]].fillna('None', inplace=True)\n",
    "test[nullcols[8]].fillna(0, inplace=True)\n",
    "test[nullcols[9]].fillna('None', inplace=True)\n",
    "test[nullcols[10]].fillna(0, inplace=True)\n",
    "test[nullcols[11]].fillna(0, inplace=True)\n",
    "test[nullcols[12]].fillna(0, inplace=True) #NA = no basement, continuous variables\n",
    "test[nullcols[13]].fillna(0, inplace=True)\n",
    "test[nullcols[14]].fillna(0, inplace=True)\n",
    "\n",
    "test[nullcols[15]].fillna('None', inplace=True) #NA = no fireplace\n",
    "\n",
    "#Garage\n",
    "test[nullcols[16]].fillna('None', inplace = True) #No garage\n",
    "test[nullcols[17]].fillna('None', inplace=True) #NA = no garage\n",
    "test[nullcols[18]].fillna(0, inplace=True) #NA = no cars or no garage\n",
    "test[nullcols[19]].fillna(0, inplace=True)\n",
    "test[nullcols[20]].fillna('None', inplace=True)\n",
    "test[nullcols[21]].fillna('None', inplace=True)\n",
    "test[nullcols[25]].fillna(train.garage_yr_blt.median(), inplace = True)\n",
    "\n",
    "test[nullcols[22]].fillna('None', inplace=True) #NA = no pool\n",
    "\n",
    "test[nullcols[23]].fillna('None', inplace=True) #NA = no fence\n",
    "\n",
    "test[nullcols[24]].fillna('None', inplace=True) #NA = no misc features\n"
   ]
  },
  {
   "cell_type": "code",
   "execution_count": 9,
   "id": "277d08b4-0c11-46f9-8daa-2cb862a58311",
   "metadata": {
    "tags": []
   },
   "outputs": [
    {
     "data": {
      "text/plain": [
       "0"
      ]
     },
     "execution_count": 9,
     "metadata": {},
     "output_type": "execute_result"
    }
   ],
   "source": [
    "train.isnull().sum().sum() #No more missing values in train set!"
   ]
  },
  {
   "cell_type": "code",
   "execution_count": 10,
   "id": "ca65b462-56b7-4cfd-83ce-55c060446e3e",
   "metadata": {},
   "outputs": [],
   "source": [
    "#The test set still had 1 more missing value that was not contained within 'nullcols'. \n",
    "test.electrical.fillna('Mix', inplace = True)"
   ]
  },
  {
   "cell_type": "code",
   "execution_count": 11,
   "id": "26422af5-3d62-452e-842e-7c16c53ac46f",
   "metadata": {
    "tags": []
   },
   "outputs": [
    {
     "data": {
      "text/plain": [
       "0"
      ]
     },
     "execution_count": 11,
     "metadata": {},
     "output_type": "execute_result"
    }
   ],
   "source": [
    "test.isnull().sum().sum() #No more missing values in test set!"
   ]
  },
  {
   "cell_type": "code",
   "execution_count": 12,
   "id": "3693f7e4-e6e6-43ed-bb7d-07c47e85c243",
   "metadata": {},
   "outputs": [
    {
     "data": {
      "text/html": [
       "<div>\n",
       "<style scoped>\n",
       "    .dataframe tbody tr th:only-of-type {\n",
       "        vertical-align: middle;\n",
       "    }\n",
       "\n",
       "    .dataframe tbody tr th {\n",
       "        vertical-align: top;\n",
       "    }\n",
       "\n",
       "    .dataframe thead th {\n",
       "        text-align: right;\n",
       "    }\n",
       "</style>\n",
       "<table border=\"1\" class=\"dataframe\">\n",
       "  <thead>\n",
       "    <tr style=\"text-align: right;\">\n",
       "      <th></th>\n",
       "      <th>id</th>\n",
       "      <th>pid</th>\n",
       "      <th>ms_subclass</th>\n",
       "      <th>ms_zoning</th>\n",
       "      <th>lot_frontage</th>\n",
       "      <th>lot_area</th>\n",
       "      <th>street</th>\n",
       "      <th>alley</th>\n",
       "      <th>lot_shape</th>\n",
       "      <th>land_contour</th>\n",
       "      <th>...</th>\n",
       "      <th>screen_porch</th>\n",
       "      <th>pool_area</th>\n",
       "      <th>pool_qc</th>\n",
       "      <th>fence</th>\n",
       "      <th>misc_feature</th>\n",
       "      <th>misc_val</th>\n",
       "      <th>mo_sold</th>\n",
       "      <th>yr_sold</th>\n",
       "      <th>sale_type</th>\n",
       "      <th>saleprice</th>\n",
       "    </tr>\n",
       "  </thead>\n",
       "  <tbody>\n",
       "    <tr>\n",
       "      <th>0</th>\n",
       "      <td>109</td>\n",
       "      <td>533352170</td>\n",
       "      <td>60</td>\n",
       "      <td>RL</td>\n",
       "      <td>0.0</td>\n",
       "      <td>13517</td>\n",
       "      <td>Pave</td>\n",
       "      <td>None</td>\n",
       "      <td>IR1</td>\n",
       "      <td>Lvl</td>\n",
       "      <td>...</td>\n",
       "      <td>0</td>\n",
       "      <td>0</td>\n",
       "      <td>None</td>\n",
       "      <td>None</td>\n",
       "      <td>None</td>\n",
       "      <td>0</td>\n",
       "      <td>3</td>\n",
       "      <td>2010</td>\n",
       "      <td>WD</td>\n",
       "      <td>130500</td>\n",
       "    </tr>\n",
       "    <tr>\n",
       "      <th>1</th>\n",
       "      <td>544</td>\n",
       "      <td>531379050</td>\n",
       "      <td>60</td>\n",
       "      <td>RL</td>\n",
       "      <td>43.0</td>\n",
       "      <td>11492</td>\n",
       "      <td>Pave</td>\n",
       "      <td>None</td>\n",
       "      <td>IR1</td>\n",
       "      <td>Lvl</td>\n",
       "      <td>...</td>\n",
       "      <td>0</td>\n",
       "      <td>0</td>\n",
       "      <td>None</td>\n",
       "      <td>None</td>\n",
       "      <td>None</td>\n",
       "      <td>0</td>\n",
       "      <td>4</td>\n",
       "      <td>2009</td>\n",
       "      <td>WD</td>\n",
       "      <td>220000</td>\n",
       "    </tr>\n",
       "    <tr>\n",
       "      <th>2</th>\n",
       "      <td>153</td>\n",
       "      <td>535304180</td>\n",
       "      <td>20</td>\n",
       "      <td>RL</td>\n",
       "      <td>68.0</td>\n",
       "      <td>7922</td>\n",
       "      <td>Pave</td>\n",
       "      <td>None</td>\n",
       "      <td>Reg</td>\n",
       "      <td>Lvl</td>\n",
       "      <td>...</td>\n",
       "      <td>0</td>\n",
       "      <td>0</td>\n",
       "      <td>None</td>\n",
       "      <td>None</td>\n",
       "      <td>None</td>\n",
       "      <td>0</td>\n",
       "      <td>1</td>\n",
       "      <td>2010</td>\n",
       "      <td>WD</td>\n",
       "      <td>109000</td>\n",
       "    </tr>\n",
       "    <tr>\n",
       "      <th>3</th>\n",
       "      <td>318</td>\n",
       "      <td>916386060</td>\n",
       "      <td>60</td>\n",
       "      <td>RL</td>\n",
       "      <td>73.0</td>\n",
       "      <td>9802</td>\n",
       "      <td>Pave</td>\n",
       "      <td>None</td>\n",
       "      <td>Reg</td>\n",
       "      <td>Lvl</td>\n",
       "      <td>...</td>\n",
       "      <td>0</td>\n",
       "      <td>0</td>\n",
       "      <td>None</td>\n",
       "      <td>None</td>\n",
       "      <td>None</td>\n",
       "      <td>0</td>\n",
       "      <td>4</td>\n",
       "      <td>2010</td>\n",
       "      <td>WD</td>\n",
       "      <td>174000</td>\n",
       "    </tr>\n",
       "    <tr>\n",
       "      <th>4</th>\n",
       "      <td>255</td>\n",
       "      <td>906425045</td>\n",
       "      <td>50</td>\n",
       "      <td>RL</td>\n",
       "      <td>82.0</td>\n",
       "      <td>14235</td>\n",
       "      <td>Pave</td>\n",
       "      <td>None</td>\n",
       "      <td>IR1</td>\n",
       "      <td>Lvl</td>\n",
       "      <td>...</td>\n",
       "      <td>0</td>\n",
       "      <td>0</td>\n",
       "      <td>None</td>\n",
       "      <td>None</td>\n",
       "      <td>None</td>\n",
       "      <td>0</td>\n",
       "      <td>3</td>\n",
       "      <td>2010</td>\n",
       "      <td>WD</td>\n",
       "      <td>138500</td>\n",
       "    </tr>\n",
       "  </tbody>\n",
       "</table>\n",
       "<p>5 rows × 81 columns</p>\n",
       "</div>"
      ],
      "text/plain": [
       "    id        pid  ms_subclass ms_zoning  lot_frontage  lot_area street alley  \\\n",
       "0  109  533352170           60        RL           0.0     13517   Pave  None   \n",
       "1  544  531379050           60        RL          43.0     11492   Pave  None   \n",
       "2  153  535304180           20        RL          68.0      7922   Pave  None   \n",
       "3  318  916386060           60        RL          73.0      9802   Pave  None   \n",
       "4  255  906425045           50        RL          82.0     14235   Pave  None   \n",
       "\n",
       "  lot_shape land_contour  ... screen_porch pool_area pool_qc fence  \\\n",
       "0       IR1          Lvl  ...            0         0    None  None   \n",
       "1       IR1          Lvl  ...            0         0    None  None   \n",
       "2       Reg          Lvl  ...            0         0    None  None   \n",
       "3       Reg          Lvl  ...            0         0    None  None   \n",
       "4       IR1          Lvl  ...            0         0    None  None   \n",
       "\n",
       "  misc_feature misc_val mo_sold yr_sold  sale_type  saleprice  \n",
       "0         None        0       3    2010        WD      130500  \n",
       "1         None        0       4    2009        WD      220000  \n",
       "2         None        0       1    2010        WD      109000  \n",
       "3         None        0       4    2010        WD      174000  \n",
       "4         None        0       3    2010        WD      138500  \n",
       "\n",
       "[5 rows x 81 columns]"
      ]
     },
     "execution_count": 12,
     "metadata": {},
     "output_type": "execute_result"
    }
   ],
   "source": [
    "train.head()"
   ]
  },
  {
   "cell_type": "code",
   "execution_count": 13,
   "id": "75fbb838-52c8-4b0a-9217-bb9040378b12",
   "metadata": {},
   "outputs": [
    {
     "data": {
      "image/png": "[encoded data removed]",
      "text/plain": [
       "<Figure size 432x288 with 1 Axes>"
      ]
     },
     "metadata": {
      "needs_background": "light"
     },
     "output_type": "display_data"
    }
   ],
   "source": [
    "#Outlier identification - Using gr_liv_area (above ground sq ft) as a proxy for total square foot of home\n",
    "#                         (assuming that the relationship between sq ft and price should be reasonably linear)\n",
    "\n",
    "sns.scatterplot(x = train['gr_liv_area'],\n",
    "                y= train['saleprice'],\n",
    "                color = 'red');\n",
    "plt.xlabel('Above-ground Living Area (sq. ft)')\n",
    "plt.ylabel('Sale Price')\n",
    "plt.title('Sale Price vs. Above-ground Living Area (sq. ft)')\n",
    "\n",
    "#Only outliers seem to be the two all the way to the right - we can cut these out of the dataset.\n",
    "\n",
    "train = train[train['gr_liv_area'] < 4500]"
   ]
  },
  {
   "cell_type": "code",
   "execution_count": 14,
   "id": "ed1b26ea-41e6-4a85-920c-c6b8254f3491",
   "metadata": {},
   "outputs": [
    {
     "data": {
      "text/plain": [
       "Text(0.5, 1.0, 'Sale Price vs. Above-ground Living Area (sq. ft)')"
      ]
     },
     "execution_count": 14,
     "metadata": {},
     "output_type": "execute_result"
    },
    {
     "data": {
      "image/png": "[encoded data removed]",
      "text/plain": [
       "<Figure size 432x288 with 1 Axes>"
      ]
     },
     "metadata": {
      "needs_background": "light"
     },
     "output_type": "display_data"
    }
   ],
   "source": [
    "#Now plotting with outliers removed.\n",
    "\n",
    "sns.scatterplot(x = train['gr_liv_area'],\n",
    "                y= train['saleprice'],\n",
    "                color = 'red');\n",
    "plt.xlabel('Above-ground Living Area (sq. ft)')\n",
    "plt.ylabel('Sale Price')\n",
    "plt.title('Sale Price vs. Above-ground Living Area (sq. ft)')\n",
    "\n",
    "#Better!"
   ]
  },
  {
   "cell_type": "code",
   "execution_count": 15,
   "id": "42ea7c2d-f2bc-4f2f-8b93-f3d6851fa2f3",
   "metadata": {},
   "outputs": [],
   "source": [
    "#Column 'MS Subclass' is a categorical variable, but is currently a int dtype - let's change that:\n",
    "train['ms_subclass'] = train['ms_subclass'].map(lambda x: str(x))\n",
    "\n",
    "#The Mo Sold column can also be better described by replacing integers with their corresponding months.\n",
    "train['mo_sold'].replace({1: 'jan', 2: 'feb', 3: 'mar', 4: 'apr', 5: 'may', 6: 'jun', 7: 'jul', 8: 'aug', 9: 'sep',\n",
    "                          10: 'oct', 11: 'nov', 12: 'dec'}, inplace = True)"
   ]
  },
  {
   "cell_type": "code",
   "execution_count": 16,
   "id": "fed60392-68c9-4fef-9cf0-3805174a4927",
   "metadata": {},
   "outputs": [],
   "source": [
    "#Repeating above cleaning but for test set:\n",
    "test['ms_subclass'] = test['ms_subclass'].map(lambda x: str(x))\n",
    "\n",
    "test['mo_sold'].replace({1: 'jan', 2: 'feb', 3: 'mar', 4: 'apr', 5: 'may', 6: 'jun', 7: 'jul', 8: 'aug', 9: 'sep',\n",
    "                          10: 'oct', 11: 'nov', 12: 'dec'}, inplace = True)"
   ]
  },
  {
   "cell_type": "markdown",
   "id": "6a795361-58e9-485d-84a6-cd8cfffc5c8c",
   "metadata": {},
   "source": [
    "## Feature Engineering"
   ]
  },
  {
   "cell_type": "code",
   "execution_count": 17,
   "id": "ad2947f1-70fb-4476-81f2-9b646c1efbf1",
   "metadata": {},
   "outputs": [],
   "source": [
    "#Interaction Terms - starting with ones done easily by hand (combining quals + conds)\n",
    "train['overallcomb'] = train.overall_qual * train.overall_cond\n",
    "\n",
    "train.bsmt_qual = train.bsmt_qual.map({'None': 0, 'Ex': 5, 'Gd': 4, 'TA': 3, 'Fa': 2, 'Po': 1})\n",
    "train.bsmt_cond = train.bsmt_cond.map({'None': 0, 'Ex': 5, 'Gd': 4, 'TA': 3, 'Fa': 2, 'Po': 1})\n",
    "train['bsmtcomb'] = train.bsmt_qual * train.bsmt_cond\n",
    "\n",
    "train.garage_qual = train.garage_qual.map({'None': 0, 'Ex': 5, 'Gd': 4, 'TA': 3, 'Fa': 2, 'Po': 1})\n",
    "train.garage_cond = train.garage_cond.map({'None': 0, 'Ex': 5, 'Gd': 4, 'TA': 3, 'Fa': 2, 'Po': 1})\n",
    "train['garagecomb'] = train.garage_qual * train.garage_cond\n",
    "\n",
    "train.exter_qual = train.exter_qual.map({ 'Ex': 5, 'Gd': 4, 'TA': 3, 'Fa': 2, 'Po': 1})\n",
    "train.exter_cond = train.exter_cond.map({ 'Ex': 5, 'Gd': 4, 'TA': 3, 'Fa': 2, 'Po': 1})\n",
    "train['extercomb'] = train.exter_qual * train.exter_cond\n",
    "\n",
    "train['sfcomb'] = train.gr_liv_area + train.total_bsmt_sf"
   ]
  },
  {
   "cell_type": "code",
   "execution_count": 18,
   "id": "112abf69-ca24-4564-9b28-8b2bb3c8daef",
   "metadata": {},
   "outputs": [],
   "source": [
    "#Same as above, but for test set.\n",
    "test['overallcomb'] = test.overall_qual * test.overall_cond\n",
    "\n",
    "test.bsmt_qual = test.bsmt_qual.map({'None': 0, 'Ex': 5, 'Gd': 4, 'TA': 3, 'Fa': 2, 'Po': 1})\n",
    "test.bsmt_cond = test.bsmt_cond.map({'None': 0, 'Ex': 5, 'Gd': 4, 'TA': 3, 'Fa': 2, 'Po': 1})\n",
    "test['bsmtcomb'] = test.bsmt_qual * test.bsmt_cond\n",
    "\n",
    "test.garage_qual = test.garage_qual.map({'None': 0, 'Ex': 5, 'Gd': 4, 'TA': 3, 'Fa': 2, 'Po': 1})\n",
    "test.garage_cond = test.garage_cond.map({'None': 0, 'Ex': 5, 'Gd': 4, 'TA': 3, 'Fa': 2, 'Po': 1})\n",
    "test['garagecomb'] = test.garage_qual * test.garage_cond\n",
    "\n",
    "test.exter_qual = test.exter_qual.map({ 'Ex': 5, 'Gd': 4, 'TA': 3, 'Fa': 2, 'Po': 1})\n",
    "test.exter_cond = test.exter_cond.map({ 'Ex': 5, 'Gd': 4, 'TA': 3, 'Fa': 2, 'Po': 1})\n",
    "test['extercomb'] = test.exter_qual * test.exter_cond\n",
    "\n",
    "test['sfcomb'] = test.gr_liv_area + test.total_bsmt_sf"
   ]
  },
  {
   "cell_type": "markdown",
   "id": "4278199f-c0c8-4b0b-8c5a-08386e6c421c",
   "metadata": {},
   "source": [
    "## Exploratory Data Analysis"
   ]
  },
  {
   "cell_type": "code",
   "execution_count": 19,
   "id": "213395d2-cc86-4772-a483-25e96bfe5289",
   "metadata": {},
   "outputs": [
    {
     "data": {
      "image/png": "[encoded data removed]",
      "text/plain": [
       "<Figure size 1080x720 with 2 Axes>"
      ]
     },
     "metadata": {
      "needs_background": "light"
     },
     "output_type": "display_data"
    }
   ],
   "source": [
    "#First we will look for which variables have a significant correlation with price. \n",
    "corr = train.corr()\n",
    "plt.figure(figsize = (15,10))\n",
    "sns.heatmap(corr[['saleprice']].sort_values(by = 'saleprice', ascending = False), \n",
    "            annot = True,\n",
    "            vmin = -1,\n",
    "            vmax = 1,\n",
    "            cmap = 'coolwarm');"
   ]
  },
  {
   "cell_type": "code",
   "execution_count": 20,
   "id": "6d0b22fa-6fb5-4669-8d24-0ad54fc98b43",
   "metadata": {},
   "outputs": [],
   "source": [
    "#The top 10 highest correlation coefficients with saleprice are below. These should prove useful for generating \n",
    "#interaciton terms. These could also be used for a more simple multi-linear regression\n",
    "top_10 = ['sfcomb', 'overall_qual', 'gr_liv_area', 'exter_qual', 'total_bsmt_sf', \n",
    "          'garage_area', '1st_flr_sf', 'garage_cars', 'bsmt_qual', 'bsmtcomb']\n",
    "\n",
    "#Choosing NOT to use PolynomialFeatures - Do not want excessive interaction terms leading to overfit model,\n",
    "#going to instead keep it simple."
   ]
  },
  {
   "cell_type": "code",
   "execution_count": 21,
   "id": "4d834b71-5eb9-417d-a11e-49e4ac71e397",
   "metadata": {},
   "outputs": [
    {
     "data": {
      "text/html": [
       "<div>\n",
       "<style scoped>\n",
       "    .dataframe tbody tr th:only-of-type {\n",
       "        vertical-align: middle;\n",
       "    }\n",
       "\n",
       "    .dataframe tbody tr th {\n",
       "        vertical-align: top;\n",
       "    }\n",
       "\n",
       "    .dataframe thead th {\n",
       "        text-align: right;\n",
       "    }\n",
       "</style>\n",
       "<table border=\"1\" class=\"dataframe\">\n",
       "  <thead>\n",
       "    <tr style=\"text-align: right;\">\n",
       "      <th></th>\n",
       "      <th>id</th>\n",
       "      <th>pid</th>\n",
       "      <th>lot_frontage</th>\n",
       "      <th>lot_area</th>\n",
       "      <th>overall_qual</th>\n",
       "      <th>overall_cond</th>\n",
       "      <th>year_built</th>\n",
       "      <th>year_remod/add</th>\n",
       "      <th>mas_vnr_area</th>\n",
       "      <th>exter_qual</th>\n",
       "      <th>...</th>\n",
       "      <th>screen_porch</th>\n",
       "      <th>pool_area</th>\n",
       "      <th>misc_val</th>\n",
       "      <th>yr_sold</th>\n",
       "      <th>saleprice</th>\n",
       "      <th>overallcomb</th>\n",
       "      <th>bsmtcomb</th>\n",
       "      <th>garagecomb</th>\n",
       "      <th>extercomb</th>\n",
       "      <th>sfcomb</th>\n",
       "    </tr>\n",
       "  </thead>\n",
       "  <tbody>\n",
       "    <tr>\n",
       "      <th>count</th>\n",
       "      <td>2049.000000</td>\n",
       "      <td>2.049000e+03</td>\n",
       "      <td>2049.000000</td>\n",
       "      <td>2049.000000</td>\n",
       "      <td>2049.000000</td>\n",
       "      <td>2049.000000</td>\n",
       "      <td>2049.000000</td>\n",
       "      <td>2049.000000</td>\n",
       "      <td>2049.000000</td>\n",
       "      <td>2049.000000</td>\n",
       "      <td>...</td>\n",
       "      <td>2049.000000</td>\n",
       "      <td>2049.000000</td>\n",
       "      <td>2049.000000</td>\n",
       "      <td>2049.000000</td>\n",
       "      <td>2049.000000</td>\n",
       "      <td>2049.000000</td>\n",
       "      <td>2049.000000</td>\n",
       "      <td>2049.000000</td>\n",
       "      <td>2049.000000</td>\n",
       "      <td>2049.000000</td>\n",
       "    </tr>\n",
       "    <tr>\n",
       "      <th>mean</th>\n",
       "      <td>1473.676428</td>\n",
       "      <td>7.134001e+08</td>\n",
       "      <td>57.785749</td>\n",
       "      <td>10024.677892</td>\n",
       "      <td>6.108346</td>\n",
       "      <td>5.562714</td>\n",
       "      <td>1971.673499</td>\n",
       "      <td>1984.166423</td>\n",
       "      <td>97.736945</td>\n",
       "      <td>3.404588</td>\n",
       "      <td>...</td>\n",
       "      <td>16.527574</td>\n",
       "      <td>2.165935</td>\n",
       "      <td>43.327965</td>\n",
       "      <td>2007.775988</td>\n",
       "      <td>181479.018058</td>\n",
       "      <td>33.850659</td>\n",
       "      <td>10.544656</td>\n",
       "      <td>8.367496</td>\n",
       "      <td>10.513909</td>\n",
       "      <td>2548.589068</td>\n",
       "    </tr>\n",
       "    <tr>\n",
       "      <th>std</th>\n",
       "      <td>844.248064</td>\n",
       "      <td>1.886859e+08</td>\n",
       "      <td>32.633866</td>\n",
       "      <td>6608.511749</td>\n",
       "      <td>1.421780</td>\n",
       "      <td>1.104897</td>\n",
       "      <td>30.171293</td>\n",
       "      <td>21.032785</td>\n",
       "      <td>171.936400</td>\n",
       "      <td>0.586134</td>\n",
       "      <td>...</td>\n",
       "      <td>57.399890</td>\n",
       "      <td>36.297124</td>\n",
       "      <td>434.481342</td>\n",
       "      <td>1.312533</td>\n",
       "      <td>79295.913255</td>\n",
       "      <td>9.246629</td>\n",
       "      <td>3.059482</td>\n",
       "      <td>2.331036</td>\n",
       "      <td>2.191721</td>\n",
       "      <td>766.978588</td>\n",
       "    </tr>\n",
       "    <tr>\n",
       "      <th>min</th>\n",
       "      <td>1.000000</td>\n",
       "      <td>5.263011e+08</td>\n",
       "      <td>0.000000</td>\n",
       "      <td>1300.000000</td>\n",
       "      <td>1.000000</td>\n",
       "      <td>1.000000</td>\n",
       "      <td>1872.000000</td>\n",
       "      <td>1950.000000</td>\n",
       "      <td>0.000000</td>\n",
       "      <td>2.000000</td>\n",
       "      <td>...</td>\n",
       "      <td>0.000000</td>\n",
       "      <td>0.000000</td>\n",
       "      <td>0.000000</td>\n",
       "      <td>2006.000000</td>\n",
       "      <td>12789.000000</td>\n",
       "      <td>1.000000</td>\n",
       "      <td>0.000000</td>\n",
       "      <td>0.000000</td>\n",
       "      <td>2.000000</td>\n",
       "      <td>334.000000</td>\n",
       "    </tr>\n",
       "    <tr>\n",
       "      <th>25%</th>\n",
       "      <td>753.000000</td>\n",
       "      <td>5.284581e+08</td>\n",
       "      <td>43.000000</td>\n",
       "      <td>7500.000000</td>\n",
       "      <td>5.000000</td>\n",
       "      <td>5.000000</td>\n",
       "      <td>1953.000000</td>\n",
       "      <td>1964.000000</td>\n",
       "      <td>0.000000</td>\n",
       "      <td>3.000000</td>\n",
       "      <td>...</td>\n",
       "      <td>0.000000</td>\n",
       "      <td>0.000000</td>\n",
       "      <td>0.000000</td>\n",
       "      <td>2007.000000</td>\n",
       "      <td>129800.000000</td>\n",
       "      <td>30.000000</td>\n",
       "      <td>9.000000</td>\n",
       "      <td>9.000000</td>\n",
       "      <td>9.000000</td>\n",
       "      <td>2010.000000</td>\n",
       "    </tr>\n",
       "    <tr>\n",
       "      <th>50%</th>\n",
       "      <td>1481.000000</td>\n",
       "      <td>5.354532e+08</td>\n",
       "      <td>63.000000</td>\n",
       "      <td>9405.000000</td>\n",
       "      <td>6.000000</td>\n",
       "      <td>5.000000</td>\n",
       "      <td>1974.000000</td>\n",
       "      <td>1993.000000</td>\n",
       "      <td>0.000000</td>\n",
       "      <td>3.000000</td>\n",
       "      <td>...</td>\n",
       "      <td>0.000000</td>\n",
       "      <td>0.000000</td>\n",
       "      <td>0.000000</td>\n",
       "      <td>2008.000000</td>\n",
       "      <td>162500.000000</td>\n",
       "      <td>35.000000</td>\n",
       "      <td>12.000000</td>\n",
       "      <td>9.000000</td>\n",
       "      <td>9.000000</td>\n",
       "      <td>2457.000000</td>\n",
       "    </tr>\n",
       "    <tr>\n",
       "      <th>75%</th>\n",
       "      <td>2199.000000</td>\n",
       "      <td>9.071760e+08</td>\n",
       "      <td>78.000000</td>\n",
       "      <td>11500.000000</td>\n",
       "      <td>7.000000</td>\n",
       "      <td>6.000000</td>\n",
       "      <td>2001.000000</td>\n",
       "      <td>2004.000000</td>\n",
       "      <td>158.000000</td>\n",
       "      <td>4.000000</td>\n",
       "      <td>...</td>\n",
       "      <td>0.000000</td>\n",
       "      <td>0.000000</td>\n",
       "      <td>0.000000</td>\n",
       "      <td>2009.000000</td>\n",
       "      <td>214000.000000</td>\n",
       "      <td>40.000000</td>\n",
       "      <td>12.000000</td>\n",
       "      <td>9.000000</td>\n",
       "      <td>12.000000</td>\n",
       "      <td>2996.000000</td>\n",
       "    </tr>\n",
       "    <tr>\n",
       "      <th>max</th>\n",
       "      <td>2930.000000</td>\n",
       "      <td>9.241520e+08</td>\n",
       "      <td>313.000000</td>\n",
       "      <td>159000.000000</td>\n",
       "      <td>10.000000</td>\n",
       "      <td>9.000000</td>\n",
       "      <td>2010.000000</td>\n",
       "      <td>2010.000000</td>\n",
       "      <td>1600.000000</td>\n",
       "      <td>5.000000</td>\n",
       "      <td>...</td>\n",
       "      <td>490.000000</td>\n",
       "      <td>800.000000</td>\n",
       "      <td>12500.000000</td>\n",
       "      <td>2010.000000</td>\n",
       "      <td>611657.000000</td>\n",
       "      <td>90.000000</td>\n",
       "      <td>20.000000</td>\n",
       "      <td>25.000000</td>\n",
       "      <td>25.000000</td>\n",
       "      <td>6428.000000</td>\n",
       "    </tr>\n",
       "  </tbody>\n",
       "</table>\n",
       "<p>8 rows × 48 columns</p>\n",
       "</div>"
      ],
      "text/plain": [
       "                id           pid  lot_frontage       lot_area  overall_qual  \\\n",
       "count  2049.000000  2.049000e+03   2049.000000    2049.000000   2049.000000   \n",
       "mean   1473.676428  7.134001e+08     57.785749   10024.677892      6.108346   \n",
       "std     844.248064  1.886859e+08     32.633866    6608.511749      1.421780   \n",
       "min       1.000000  5.263011e+08      0.000000    1300.000000      1.000000   \n",
       "25%     753.000000  5.284581e+08     43.000000    7500.000000      5.000000   \n",
       "50%    1481.000000  5.354532e+08     63.000000    9405.000000      6.000000   \n",
       "75%    2199.000000  9.071760e+08     78.000000   11500.000000      7.000000   \n",
       "max    2930.000000  9.241520e+08    313.000000  159000.000000     10.000000   \n",
       "\n",
       "       overall_cond   year_built  year_remod/add  mas_vnr_area   exter_qual  \\\n",
       "count   2049.000000  2049.000000     2049.000000   2049.000000  2049.000000   \n",
       "mean       5.562714  1971.673499     1984.166423     97.736945     3.404588   \n",
       "std        1.104897    30.171293       21.032785    171.936400     0.586134   \n",
       "min        1.000000  1872.000000     1950.000000      0.000000     2.000000   \n",
       "25%        5.000000  1953.000000     1964.000000      0.000000     3.000000   \n",
       "50%        5.000000  1974.000000     1993.000000      0.000000     3.000000   \n",
       "75%        6.000000  2001.000000     2004.000000    158.000000     4.000000   \n",
       "max        9.000000  2010.000000     2010.000000   1600.000000     5.000000   \n",
       "\n",
       "       ...  screen_porch    pool_area      misc_val      yr_sold  \\\n",
       "count  ...   2049.000000  2049.000000   2049.000000  2049.000000   \n",
       "mean   ...     16.527574     2.165935     43.327965  2007.775988   \n",
       "std    ...     57.399890    36.297124    434.481342     1.312533   \n",
       "min    ...      0.000000     0.000000      0.000000  2006.000000   \n",
       "25%    ...      0.000000     0.000000      0.000000  2007.000000   \n",
       "50%    ...      0.000000     0.000000      0.000000  2008.000000   \n",
       "75%    ...      0.000000     0.000000      0.000000  2009.000000   \n",
       "max    ...    490.000000   800.000000  12500.000000  2010.000000   \n",
       "\n",
       "           saleprice  overallcomb     bsmtcomb   garagecomb    extercomb  \\\n",
       "count    2049.000000  2049.000000  2049.000000  2049.000000  2049.000000   \n",
       "mean   181479.018058    33.850659    10.544656     8.367496    10.513909   \n",
       "std     79295.913255     9.246629     3.059482     2.331036     2.191721   \n",
       "min     12789.000000     1.000000     0.000000     0.000000     2.000000   \n",
       "25%    129800.000000    30.000000     9.000000     9.000000     9.000000   \n",
       "50%    162500.000000    35.000000    12.000000     9.000000     9.000000   \n",
       "75%    214000.000000    40.000000    12.000000     9.000000    12.000000   \n",
       "max    611657.000000    90.000000    20.000000    25.000000    25.000000   \n",
       "\n",
       "            sfcomb  \n",
       "count  2049.000000  \n",
       "mean   2548.589068  \n",
       "std     766.978588  \n",
       "min     334.000000  \n",
       "25%    2010.000000  \n",
       "50%    2457.000000  \n",
       "75%    2996.000000  \n",
       "max    6428.000000  \n",
       "\n",
       "[8 rows x 48 columns]"
      ]
     },
     "execution_count": 21,
     "metadata": {},
     "output_type": "execute_result"
    }
   ],
   "source": [
    "#Summary Statistics\n",
    "train.describe()"
   ]
  },
  {
   "cell_type": "code",
   "execution_count": 22,
   "id": "8dfb71df-4e69-4116-bbd2-91ae381c86b5",
   "metadata": {},
   "outputs": [
    {
     "data": {
      "image/png": "[encoded data removed]",
      "text/plain": [
       "<Figure size 432x288 with 1 Axes>"
      ]
     },
     "metadata": {
      "needs_background": "light"
     },
     "output_type": "display_data"
    }
   ],
   "source": [
    "#### Visualizations - Distributions, etc.\n",
    "\n",
    "plt.hist(train['saleprice'], bins = 50);\n",
    "plt.axvline(train['saleprice'].median(), color = 'red')\n",
    "plt.title('Distribution of House Sale Prices')\n",
    "plt.xlabel('Price')\n",
    "plt.ylabel('Count');"
   ]
  },
  {
   "cell_type": "markdown",
   "id": "bab65362-cd52-4b13-82d9-18d1ad22cfb5",
   "metadata": {},
   "source": [
    "Above, one can see that the distribution of house sale prices in Ames isn't exactly normal, as a long right tail is present."
   ]
  },
  {
   "cell_type": "code",
   "execution_count": 23,
   "id": "c2788022-a347-4ae8-93fd-abef19294ed1",
   "metadata": {},
   "outputs": [
    {
     "data": {
      "image/png": "[encoded data removed]",
      "text/plain": [
       "<Figure size 432x288 with 1 Axes>"
      ]
     },
     "metadata": {
      "needs_background": "light"
     },
     "output_type": "display_data"
    }
   ],
   "source": [
    "plt.hist(train['sfcomb'], bins = 50)\n",
    "plt.axvline(train['sfcomb'].median(), color = 'red')\n",
    "plt.title('Distribution of House Areas (sq. ft)')\n",
    "plt.xlabel('Total Area of Home (sq. ft)')\n",
    "plt.ylabel('Count');"
   ]
  },
  {
   "cell_type": "markdown",
   "id": "1f6ee144-4a52-4483-9e20-9de226fa3cec",
   "metadata": {},
   "source": [
    "Closer to normal distirbution than price. Median house size seems to be ~2,400 square feet. Very close to shape in price, possible relationship. "
   ]
  },
  {
   "cell_type": "code",
   "execution_count": 24,
   "id": "9954c535-60ce-4cde-9b8b-baabb6221aad",
   "metadata": {},
   "outputs": [
    {
     "data": {
      "image/png": "[encoded data removed]",
      "text/plain": [
       "<Figure size 432x288 with 1 Axes>"
      ]
     },
     "metadata": {
      "needs_background": "light"
     },
     "output_type": "display_data"
    }
   ],
   "source": [
    "sns.regplot(x = train['sfcomb'],\n",
    "            y = train['saleprice'],\n",
    "            line_kws = {'color':'red'});\n",
    "plt.title('Sale Price vs. Total Sq. Ft. Area of Home');"
   ]
  },
  {
   "cell_type": "code",
   "execution_count": 25,
   "id": "52368edc-92ca-46da-a4a7-e4f3e9db2924",
   "metadata": {},
   "outputs": [
    {
     "data": {
      "image/png": "[encoded data removed]",
      "text/plain": [
       "<Figure size 432x288 with 1 Axes>"
      ]
     },
     "metadata": {
      "needs_background": "light"
     },
     "output_type": "display_data"
    }
   ],
   "source": [
    "sns.regplot(x = train['overall_qual'],\n",
    "            y = train['saleprice'],\n",
    "            line_kws = {'color':'red'});\n",
    "plt.title('Sale Price vs. Overall Quality of Home');"
   ]
  },
  {
   "cell_type": "code",
   "execution_count": 26,
   "id": "b03f3b5b-0e7e-4d51-9f0d-2f767486e3a1",
   "metadata": {},
   "outputs": [
    {
     "data": {
      "image/png": "[encoded data removed]",
      "text/plain": [
       "<Figure size 432x288 with 1 Axes>"
      ]
     },
     "metadata": {
      "needs_background": "light"
     },
     "output_type": "display_data"
    }
   ],
   "source": [
    "sns.regplot(x = train['year_built'],\n",
    "             y = train['saleprice'],\n",
    "             line_kws = {'color':'red'})\n",
    "plt.title('Sale Price vs. Year Built');"
   ]
  },
  {
   "cell_type": "markdown",
   "id": "6588f681-e135-4f91-998c-c9b48fa89011",
   "metadata": {},
   "source": [
    "Each of the regression plots above highlight the somewhat strong correlations these select features have with price. With year_built, although the regression line may be less fit, new houses can clearly be sold for much higher shown on the right side of the chart."
   ]
  },
  {
   "cell_type": "markdown",
   "id": "8fc1e6e2-490e-46ac-81e3-5f28463ea8a9",
   "metadata": {},
   "source": [
    "## Model Creation and Evaluation"
   ]
  },
  {
   "cell_type": "markdown",
   "id": "7db571f0-515b-4a9d-9cc7-77903693fabd",
   "metadata": {},
   "source": [
    "Preprocessing - Here, categorical variables are dummified in each of the training and test sets, then we ensure that these sets have the same features list so that we can use sklearn on them. That is, the number of columns must match. The reason they may not have the same number of features initially is that either set may not have all possible dummy values present. These dataframes with dummy categorical variables are refered to as 'train_new' and 'test_new' for lack of better names."
   ]
  },
  {
   "cell_type": "code",
   "execution_count": 27,
   "id": "cfb80f99-7428-429b-b499-a42ab79b0b11",
   "metadata": {},
   "outputs": [
    {
     "name": "stdout",
     "output_type": "stream",
     "text": [
      "Train / test set dimensions: [(2051, 81), (878, 80)]\n"
     ]
    }
   ],
   "source": [
    "print(f'Train / test set dimensions: {sizes}')"
   ]
  },
  {
   "cell_type": "code",
   "execution_count": 28,
   "id": "2737cb48-dee6-41d5-93cf-b26694cb8bee",
   "metadata": {},
   "outputs": [
    {
     "data": {
      "text/plain": [
       "(2049, 308)"
      ]
     },
     "execution_count": 28,
     "metadata": {},
     "output_type": "execute_result"
    }
   ],
   "source": [
    "cat_feats = train.select_dtypes(include = [\"object\"]).columns\n",
    "train1 = train.drop(columns = cat_feats)\n",
    "train2 = train[cat_feats]\n",
    "\n",
    "train2 = pd.get_dummies(train2)\n",
    "\n",
    "train_new = pd.concat([train1, train2], axis = 1)\n",
    "\n",
    "train_new.shape"
   ]
  },
  {
   "cell_type": "code",
   "execution_count": 29,
   "id": "4a089c9c-f5b8-444e-be51-88a93145995f",
   "metadata": {},
   "outputs": [
    {
     "data": {
      "text/plain": [
       "(878, 293)"
      ]
     },
     "execution_count": 29,
     "metadata": {},
     "output_type": "execute_result"
    }
   ],
   "source": [
    "cat_feats2 = test.select_dtypes(include = [\"object\"]).columns\n",
    "test1 = test.drop(columns = cat_feats2)\n",
    "test2 = test[cat_feats2]\n",
    "\n",
    "test2 = pd.get_dummies(test2)\n",
    "\n",
    "test_new = pd.concat([test1, test2], axis = 1)\n",
    "\n",
    "test_new.shape"
   ]
  },
  {
   "cell_type": "code",
   "execution_count": 30,
   "id": "4ff06d95-624f-4849-8b41-31e7d19b323f",
   "metadata": {},
   "outputs": [
    {
     "data": {
      "text/plain": [
       "['roof_matl_Metal',\n",
       " 'roof_matl_Roll',\n",
       " 'exterior_1st_PreCast',\n",
       " 'exterior_2nd_Other',\n",
       " 'exterior_2nd_PreCast',\n",
       " 'mas_vnr_type_CBlock',\n",
       " 'heating_Floor',\n",
       " 'kitchen_qual_Po',\n",
       " 'sale_type_VWD']"
      ]
     },
     "execution_count": 30,
     "metadata": {},
     "output_type": "execute_result"
    }
   ],
   "source": [
    "#Here, differences in columns between the newly created train_new and test_new dataframes are recorded.\n",
    "diffs = []\n",
    "for x in list(test_new.columns):  #columns found in the test set, but not the training set.\n",
    "    if x not in list(train_new.columns):\n",
    "        diffs.append(x)\n",
    "\n",
    "diffs"
   ]
  },
  {
   "cell_type": "code",
   "execution_count": 31,
   "id": "6658b52d-ab47-45cc-8804-8aa8d60bb5b2",
   "metadata": {},
   "outputs": [
    {
     "data": {
      "text/plain": [
       "(878, 284)"
      ]
     },
     "execution_count": 31,
     "metadata": {},
     "output_type": "execute_result"
    }
   ],
   "source": [
    "test_new.drop(columns = diffs, inplace = True)\n",
    "\n",
    "test_new.shape"
   ]
  },
  {
   "cell_type": "code",
   "execution_count": 32,
   "id": "3f0ce899-ed71-4134-ae4f-f8d2a19dd87a",
   "metadata": {},
   "outputs": [
    {
     "data": {
      "text/plain": [
       "['saleprice',\n",
       " 'ms_subclass_150',\n",
       " 'ms_zoning_A (agr)',\n",
       " 'utilities_NoSeWa',\n",
       " 'neighborhood_GrnHill',\n",
       " 'neighborhood_Landmrk',\n",
       " 'condition_2_Artery',\n",
       " 'condition_2_PosN',\n",
       " 'condition_2_RRAe',\n",
       " 'condition_2_RRAn',\n",
       " 'condition_2_RRNn',\n",
       " 'roof_matl_Membran',\n",
       " 'exterior_1st_CBlock',\n",
       " 'exterior_1st_ImStucc',\n",
       " 'exterior_1st_Stone',\n",
       " 'exterior_2nd_Stone',\n",
       " 'heating_OthW',\n",
       " 'heating_Wall',\n",
       " 'heating_qc_Po',\n",
       " 'functional_Sal',\n",
       " 'functional_Sev',\n",
       " 'pool_qc_Fa',\n",
       " 'pool_qc_Gd',\n",
       " 'misc_feature_TenC']"
      ]
     },
     "execution_count": 32,
     "metadata": {},
     "output_type": "execute_result"
    }
   ],
   "source": [
    "#Here we list the columns that are contained in the training set but not the test set.\n",
    "diffs = []\n",
    "for x in list(train_new.columns):\n",
    "    if x not in list(test_new.columns):\n",
    "        diffs.append(x)\n",
    "\n",
    "diffs"
   ]
  },
  {
   "cell_type": "code",
   "execution_count": 33,
   "id": "8c425bc8-e8ca-4def-b117-092a15246ed8",
   "metadata": {},
   "outputs": [
    {
     "data": {
      "text/plain": [
       "(2049, 285)"
      ]
     },
     "execution_count": 33,
     "metadata": {},
     "output_type": "execute_result"
    }
   ],
   "source": [
    "train_new.drop(columns = diffs[1:], inplace = True)\n",
    "\n",
    "train_new.shape"
   ]
  },
  {
   "cell_type": "markdown",
   "id": "cf2f7ade-4d8a-430c-91c1-49fbae75fba3",
   "metadata": {},
   "source": [
    "Now the full, dummified dataframes (with matching feature lists) are ready. Below, the training set is itself split into a training and test set. The test set cleaned above will be used for final evaluation of the models. It will be called as test_new, as defined above."
   ]
  },
  {
   "cell_type": "code",
   "execution_count": 34,
   "id": "474b1e07-8ad3-4d9b-8d6b-d9c0bbca4815",
   "metadata": {},
   "outputs": [
    {
     "data": {
      "text/plain": [
       "(1639, 284)"
      ]
     },
     "execution_count": 34,
     "metadata": {},
     "output_type": "execute_result"
    }
   ],
   "source": [
    "#Train-test-split\n",
    "train_new.rename(columns = {'id': 'Id'}, inplace = True)\n",
    "test_new.rename(columns = {'id': 'Id'}, inplace = True)\n",
    "\n",
    "X = train_new.drop(['saleprice'], axis = 'columns')\n",
    "y = train_new.saleprice\n",
    "\n",
    "X_train, X_test, y_train, y_test = train_test_split(X, y, test_size = 0.2, random_state = 42)\n",
    "\n",
    "X_train.shape"
   ]
  },
  {
   "cell_type": "markdown",
   "id": "ef72fc63-cea7-437f-8c3d-32280a9b7121",
   "metadata": {},
   "source": [
    "First model construction - a multiple regression using all independent variables possible"
   ]
  },
  {
   "cell_type": "code",
   "execution_count": 35,
   "id": "d82bec1d-b04d-43f0-9a13-6c9f34a1f5c1",
   "metadata": {},
   "outputs": [
    {
     "name": "stdout",
     "output_type": "stream",
     "text": [
      "Training Score: 0.939853208938008\n",
      "Testing Score: 0.9262965565495891\n"
     ]
    }
   ],
   "source": [
    "#Unscaled - Multiple regression model using all features possible (including categorical variables).\n",
    "\n",
    "lr = LinearRegression()\n",
    "\n",
    "lr.fit(X_train, y_train)\n",
    "\n",
    "print(f'Training Score: {lr.score(X_train, y_train)}')\n",
    "print(f'Testing Score: {lr.score(X_test, y_test)}') #Scores already good w/o scaling or Ridge"
   ]
  },
  {
   "cell_type": "code",
   "execution_count": 36,
   "id": "73d26735-8f1d-4e08-a33b-c965c73acfa1",
   "metadata": {},
   "outputs": [],
   "source": [
    "\n",
    "preds = lr.predict(test_new)\n",
    "\n",
    "test_new['SalePrice'] = preds\n",
    "\n",
    "lr_submission = test_new[['Id', 'SalePrice']]\n",
    "\n",
    "lr_submission.set_index('Id', inplace = True)"
   ]
  },
  {
   "cell_type": "code",
   "execution_count": 37,
   "id": "987100c1-534b-4004-9a3d-4c4da5e1adb0",
   "metadata": {},
   "outputs": [
    {
     "data": {
      "text/html": [
       "<div>\n",
       "<style scoped>\n",
       "    .dataframe tbody tr th:only-of-type {\n",
       "        vertical-align: middle;\n",
       "    }\n",
       "\n",
       "    .dataframe tbody tr th {\n",
       "        vertical-align: top;\n",
       "    }\n",
       "\n",
       "    .dataframe thead th {\n",
       "        text-align: right;\n",
       "    }\n",
       "</style>\n",
       "<table border=\"1\" class=\"dataframe\">\n",
       "  <thead>\n",
       "    <tr style=\"text-align: right;\">\n",
       "      <th></th>\n",
       "      <th>SalePrice</th>\n",
       "    </tr>\n",
       "    <tr>\n",
       "      <th>Id</th>\n",
       "      <th></th>\n",
       "    </tr>\n",
       "  </thead>\n",
       "  <tbody>\n",
       "    <tr>\n",
       "      <th>2658</th>\n",
       "      <td>144177.645674</td>\n",
       "    </tr>\n",
       "    <tr>\n",
       "      <th>2718</th>\n",
       "      <td>156030.446956</td>\n",
       "    </tr>\n",
       "    <tr>\n",
       "      <th>2414</th>\n",
       "      <td>214657.033917</td>\n",
       "    </tr>\n",
       "    <tr>\n",
       "      <th>1989</th>\n",
       "      <td>117056.724359</td>\n",
       "    </tr>\n",
       "    <tr>\n",
       "      <th>625</th>\n",
       "      <td>179408.170969</td>\n",
       "    </tr>\n",
       "  </tbody>\n",
       "</table>\n",
       "</div>"
      ],
      "text/plain": [
       "          SalePrice\n",
       "Id                 \n",
       "2658  144177.645674\n",
       "2718  156030.446956\n",
       "2414  214657.033917\n",
       "1989  117056.724359\n",
       "625   179408.170969"
      ]
     },
     "execution_count": 37,
     "metadata": {},
     "output_type": "execute_result"
    }
   ],
   "source": [
    "lr_submission.to_csv('../model-submissions/lr_model_all.csv')\n",
    "\n",
    "test_new.drop(columns = 'SalePrice', inplace = True)\n",
    "\n",
    "lr_submission.head()"
   ]
  },
  {
   "cell_type": "markdown",
   "id": "9f05e057-c54c-47f0-bf6a-de995228b438",
   "metadata": {},
   "source": [
    "Multiple regression model using all possible independent variables saved. Now will look at a model using Ridge cross-validation."
   ]
  },
  {
   "cell_type": "code",
   "execution_count": 38,
   "id": "8dbfed50-102c-4d7c-9309-546ab2d152c8",
   "metadata": {},
   "outputs": [],
   "source": [
    "#Scaling - as required for use in Ridge regularization. \n",
    "ss = StandardScaler()\n",
    "\n",
    "Z_train = ss.fit_transform(X_train)\n",
    "\n",
    "Z_test = ss.transform(X_test)\n",
    "\n",
    "#Also scaling the test set so that the model can run on it.\n",
    "test_new_sc = ss.transform(test_new)"
   ]
  },
  {
   "cell_type": "code",
   "execution_count": 39,
   "id": "7dc3c4e4-26f2-4e75-8eaa-dd0201656b0b",
   "metadata": {
    "tags": []
   },
   "outputs": [
    {
     "data": {
      "text/plain": [
       "RidgeCV(alphas=array([1.00000000e+00, 1.12332403e+00, 1.26185688e+00, 1.41747416e+00,\n",
       "       1.59228279e+00, 1.78864953e+00, 2.00923300e+00, 2.25701972e+00,\n",
       "       2.53536449e+00, 2.84803587e+00, 3.19926714e+00, 3.59381366e+00,\n",
       "       4.03701726e+00, 4.53487851e+00, 5.09413801e+00, 5.72236766e+00,\n",
       "       6.42807312e+00, 7.22080902e+00, 8.11130831e+00, 9.11162756e+00,\n",
       "       1.02353102e+01, 1.14975700e+0...\n",
       "       6.89261210e+03, 7.74263683e+03, 8.69749003e+03, 9.77009957e+03,\n",
       "       1.09749877e+04, 1.23284674e+04, 1.38488637e+04, 1.55567614e+04,\n",
       "       1.74752840e+04, 1.96304065e+04, 2.20513074e+04, 2.47707636e+04,\n",
       "       2.78255940e+04, 3.12571585e+04, 3.51119173e+04, 3.94420606e+04,\n",
       "       4.43062146e+04, 4.97702356e+04, 5.59081018e+04, 6.28029144e+04,\n",
       "       7.05480231e+04, 7.92482898e+04, 8.90215085e+04, 1.00000000e+05]),\n",
       "        cv=5)"
      ]
     },
     "execution_count": 39,
     "metadata": {},
     "output_type": "execute_result"
    }
   ],
   "source": [
    "#RidgeCV -- Taken from Lesson 4.03\n",
    "alphas = np.logspace(0, 5, 100)\n",
    "# Cross-validate over our list of ridge alphas.\n",
    "ridge_cv = RidgeCV(alphas = alphas, cv = 5)\n",
    "# Fit model using best ridge alpha!\n",
    "ridge_cv.fit(Z_train, y_train)"
   ]
  },
  {
   "cell_type": "code",
   "execution_count": 40,
   "id": "15638a0d-e9cb-4e27-ab9e-b5ec92a3728a",
   "metadata": {},
   "outputs": [
    {
     "data": {
      "text/plain": [
       "(298.364724028334, 0.9102557151947727)"
      ]
     },
     "execution_count": 40,
     "metadata": {},
     "output_type": "execute_result"
    }
   ],
   "source": [
    "(ridge_cv.alpha_, ridge_cv.best_score_)"
   ]
  },
  {
   "cell_type": "code",
   "execution_count": 41,
   "id": "d3de737f-a2d4-4688-92b7-7448ace9ec34",
   "metadata": {},
   "outputs": [
    {
     "name": "stdout",
     "output_type": "stream",
     "text": [
      "0.9342181735167562\n",
      "0.9218697494849822\n"
     ]
    }
   ],
   "source": [
    "print(ridge_cv.score(Z_train, y_train))\n",
    "print(ridge_cv.score(Z_test, y_test))"
   ]
  },
  {
   "cell_type": "code",
   "execution_count": 42,
   "id": "b6305076-e463-4e4e-b2c7-3269bbc7e971",
   "metadata": {},
   "outputs": [],
   "source": [
    "preds = ridge_cv.predict(test_new_sc)\n",
    "\n",
    "test_new['SalePrice'] = preds\n",
    "\n",
    "test_new.rename(columns = {'id':'Id'}, inplace = True)\n",
    "\n",
    "ridge_submission = test_new[['Id', 'SalePrice']]\n",
    "\n",
    "ridge_submission.set_index('Id', inplace = True)"
   ]
  },
  {
   "cell_type": "code",
   "execution_count": 43,
   "id": "7a218a62-d3cf-4075-9373-9e446be5fe06",
   "metadata": {},
   "outputs": [
    {
     "data": {
      "text/html": [
       "<div>\n",
       "<style scoped>\n",
       "    .dataframe tbody tr th:only-of-type {\n",
       "        vertical-align: middle;\n",
       "    }\n",
       "\n",
       "    .dataframe tbody tr th {\n",
       "        vertical-align: top;\n",
       "    }\n",
       "\n",
       "    .dataframe thead th {\n",
       "        text-align: right;\n",
       "    }\n",
       "</style>\n",
       "<table border=\"1\" class=\"dataframe\">\n",
       "  <thead>\n",
       "    <tr style=\"text-align: right;\">\n",
       "      <th></th>\n",
       "      <th>SalePrice</th>\n",
       "    </tr>\n",
       "    <tr>\n",
       "      <th>Id</th>\n",
       "      <th></th>\n",
       "    </tr>\n",
       "  </thead>\n",
       "  <tbody>\n",
       "    <tr>\n",
       "      <th>2658</th>\n",
       "      <td>142413.906137</td>\n",
       "    </tr>\n",
       "    <tr>\n",
       "      <th>2718</th>\n",
       "      <td>161599.331223</td>\n",
       "    </tr>\n",
       "    <tr>\n",
       "      <th>2414</th>\n",
       "      <td>220378.170718</td>\n",
       "    </tr>\n",
       "    <tr>\n",
       "      <th>1989</th>\n",
       "      <td>114071.464573</td>\n",
       "    </tr>\n",
       "    <tr>\n",
       "      <th>625</th>\n",
       "      <td>182373.845182</td>\n",
       "    </tr>\n",
       "  </tbody>\n",
       "</table>\n",
       "</div>"
      ],
      "text/plain": [
       "          SalePrice\n",
       "Id                 \n",
       "2658  142413.906137\n",
       "2718  161599.331223\n",
       "2414  220378.170718\n",
       "1989  114071.464573\n",
       "625   182373.845182"
      ]
     },
     "execution_count": 43,
     "metadata": {},
     "output_type": "execute_result"
    }
   ],
   "source": [
    "ridge_submission.to_csv('../model-submissions/ridge_cv_model.csv')\n",
    "\n",
    "test_new.drop(columns = 'SalePrice', inplace = True)\n",
    "\n",
    "ridge_submission.head()"
   ]
  },
  {
   "cell_type": "markdown",
   "id": "7290530f-a1b7-429d-9683-188fb9356eb3",
   "metadata": {},
   "source": [
    "Ridge cross-validation model complete and saved. Now a Lasso regression model will be explored:"
   ]
  },
  {
   "cell_type": "code",
   "execution_count": 47,
   "id": "337eef3f-dad0-4bcd-98c2-7846b2102c4f",
   "metadata": {
    "tags": []
   },
   "outputs": [
    {
     "data": {
      "text/plain": [
       "LassoCV(alphas=array([0.001     , 0.00107227, 0.00114976, 0.00123285, 0.00132194,\n",
       "       0.00141747, 0.00151991, 0.00162975, 0.00174753, 0.00187382,\n",
       "       0.00200923, 0.00215443, 0.00231013, 0.00247708, 0.00265609,\n",
       "       0.00284804, 0.00305386, 0.00327455, 0.00351119, 0.00376494,\n",
       "       0.00403702, 0.00432876, 0.00464159, 0.00497702, 0.0053367 ,\n",
       "       0.00572237, 0.00613591, 0.00657933, 0.0070548 , 0.00756463,\n",
       "       0.008...\n",
       "       0.09326033, 0.1       , 0.10722672, 0.1149757 , 0.12328467,\n",
       "       0.13219411, 0.14174742, 0.15199111, 0.16297508, 0.17475284,\n",
       "       0.18738174, 0.2009233 , 0.21544347, 0.23101297, 0.24770764,\n",
       "       0.26560878, 0.28480359, 0.30538555, 0.32745492, 0.35111917,\n",
       "       0.37649358, 0.40370173, 0.43287613, 0.46415888, 0.49770236,\n",
       "       0.53366992, 0.57223677, 0.61359073, 0.65793322, 0.70548023,\n",
       "       0.75646333, 0.81113083, 0.869749  , 0.93260335, 1.        ]),\n",
       "        max_iter=10000)"
      ]
     },
     "execution_count": 47,
     "metadata": {},
     "output_type": "execute_result"
    }
   ],
   "source": [
    "#From Lesson 4.03:\n",
    "# Set up a list of Lasso alphas to check.\n",
    "l_alphas = np.logspace(-3, 0, 100)\n",
    "# Cross-validate over our list of Lasso alphas.\n",
    "lasso_cv = LassoCV(alphas = l_alphas, max_iter = 10000, verbose = False)\n",
    "# Fit model using best ridge alpha!\n",
    "lasso_cv.fit(Z_train, y_train)"
   ]
  },
  {
   "cell_type": "code",
   "execution_count": 48,
   "id": "29475a1e-9783-4424-85ab-28674be3d6a1",
   "metadata": {},
   "outputs": [
    {
     "name": "stdout",
     "output_type": "stream",
     "text": [
      "Training score: 0.939848204235743\n",
      "Testing score: 0.9261665683225015\n"
     ]
    }
   ],
   "source": [
    "print(f'Training score: {lasso_cv.score(Z_train, y_train)}')\n",
    "print(f'Testing score: {lasso_cv.score(Z_test, y_test)}')"
   ]
  },
  {
   "cell_type": "code",
   "execution_count": 49,
   "id": "768c5252-ba7d-482a-b4af-854864d4e9ba",
   "metadata": {},
   "outputs": [],
   "source": [
    "preds = lasso_cv.predict(test_new_sc)\n",
    "\n",
    "test_new['SalePrice'] = preds\n",
    "\n",
    "lasso_submission = test_new[['Id', 'SalePrice']]\n",
    "\n",
    "lasso_submission.set_index('Id', inplace = True)"
   ]
  },
  {
   "cell_type": "code",
   "execution_count": 50,
   "id": "d0d07901-d990-4eee-a81f-37491a7b5b4b",
   "metadata": {},
   "outputs": [
    {
     "data": {
      "text/html": [
       "<div>\n",
       "<style scoped>\n",
       "    .dataframe tbody tr th:only-of-type {\n",
       "        vertical-align: middle;\n",
       "    }\n",
       "\n",
       "    .dataframe tbody tr th {\n",
       "        vertical-align: top;\n",
       "    }\n",
       "\n",
       "    .dataframe thead th {\n",
       "        text-align: right;\n",
       "    }\n",
       "</style>\n",
       "<table border=\"1\" class=\"dataframe\">\n",
       "  <thead>\n",
       "    <tr style=\"text-align: right;\">\n",
       "      <th></th>\n",
       "      <th>SalePrice</th>\n",
       "    </tr>\n",
       "    <tr>\n",
       "      <th>Id</th>\n",
       "      <th></th>\n",
       "    </tr>\n",
       "  </thead>\n",
       "  <tbody>\n",
       "    <tr>\n",
       "      <th>2658</th>\n",
       "      <td>144056.602379</td>\n",
       "    </tr>\n",
       "    <tr>\n",
       "      <th>2718</th>\n",
       "      <td>156102.861410</td>\n",
       "    </tr>\n",
       "    <tr>\n",
       "      <th>2414</th>\n",
       "      <td>214663.931063</td>\n",
       "    </tr>\n",
       "    <tr>\n",
       "      <th>1989</th>\n",
       "      <td>117056.323108</td>\n",
       "    </tr>\n",
       "    <tr>\n",
       "      <th>625</th>\n",
       "      <td>179376.301264</td>\n",
       "    </tr>\n",
       "  </tbody>\n",
       "</table>\n",
       "</div>"
      ],
      "text/plain": [
       "          SalePrice\n",
       "Id                 \n",
       "2658  144056.602379\n",
       "2718  156102.861410\n",
       "2414  214663.931063\n",
       "1989  117056.323108\n",
       "625   179376.301264"
      ]
     },
     "execution_count": 50,
     "metadata": {},
     "output_type": "execute_result"
    }
   ],
   "source": [
    "lasso_submission.to_csv('../model-submissions/lasso_cv_model.csv')\n",
    "\n",
    "lasso_submission.head()"
   ]
  },
  {
   "cell_type": "markdown",
   "id": "7b81fbee-3f17-4bee-b757-3b670be1e0cc",
   "metadata": {},
   "source": [
    "Finally, we will look at a more simple multiple regression model using the top 10 features most significantly correlated to sale price, as observed above in the heatmap shown previously."
   ]
  },
  {
   "cell_type": "code",
   "execution_count": 51,
   "id": "8f8045e9-02f0-4d27-a2ff-c0d44bf4003e",
   "metadata": {},
   "outputs": [],
   "source": [
    "#Here the original train dataframe is being used because the categorical features are not being used. \n",
    "X_top10 = train[top_10]\n",
    "y_top10 = train['saleprice']\n",
    "\n",
    "X_train_top10, X_test_top10, y_train_top10, y_test_top10 = train_test_split(X_top10, y_top10, test_size = 0.2, random_state = 42)"
   ]
  },
  {
   "cell_type": "code",
   "execution_count": 52,
   "id": "fe51d5b4-a43e-4103-9986-08834909d192",
   "metadata": {},
   "outputs": [
    {
     "data": {
      "text/plain": [
       "LinearRegression()"
      ]
     },
     "execution_count": 52,
     "metadata": {},
     "output_type": "execute_result"
    }
   ],
   "source": [
    "top10 = LinearRegression()\n",
    "\n",
    "top10.fit(X_train_top10, y_train_top10)"
   ]
  },
  {
   "cell_type": "code",
   "execution_count": 53,
   "id": "89126d57-b042-4a54-baea-b87cc811ec37",
   "metadata": {},
   "outputs": [
    {
     "name": "stdout",
     "output_type": "stream",
     "text": [
      "Training Score: 0.8390398819740101\n",
      "Testing Score: 0.8344471015909346\n"
     ]
    }
   ],
   "source": [
    "print(f'Training Score: {top10.score(X_train_top10, y_train_top10)}')\n",
    "print(f'Testing Score: {top10.score(X_test_top10, y_test_top10)}')"
   ]
  },
  {
   "cell_type": "code",
   "execution_count": 54,
   "id": "3d075020-7a40-4c13-8c43-ee25d10be091",
   "metadata": {},
   "outputs": [],
   "source": [
    "preds = top10.predict(test[top_10])\n",
    "\n",
    "test['SalePrice'] = preds\n",
    "\n",
    "test.rename(columns = {'id':'Id'}, inplace = True)\n",
    "\n",
    "top10_submission = test[['Id', 'SalePrice']]\n",
    "\n",
    "top10_submission.set_index('Id', inplace = True)"
   ]
  },
  {
   "cell_type": "code",
   "execution_count": 55,
   "id": "f85fd4d8-f9b5-42df-812b-833b3ae21c92",
   "metadata": {},
   "outputs": [
    {
     "data": {
      "text/html": [
       "<div>\n",
       "<style scoped>\n",
       "    .dataframe tbody tr th:only-of-type {\n",
       "        vertical-align: middle;\n",
       "    }\n",
       "\n",
       "    .dataframe tbody tr th {\n",
       "        vertical-align: top;\n",
       "    }\n",
       "\n",
       "    .dataframe thead th {\n",
       "        text-align: right;\n",
       "    }\n",
       "</style>\n",
       "<table border=\"1\" class=\"dataframe\">\n",
       "  <thead>\n",
       "    <tr style=\"text-align: right;\">\n",
       "      <th></th>\n",
       "      <th>SalePrice</th>\n",
       "    </tr>\n",
       "    <tr>\n",
       "      <th>Id</th>\n",
       "      <th></th>\n",
       "    </tr>\n",
       "  </thead>\n",
       "  <tbody>\n",
       "    <tr>\n",
       "      <th>2658</th>\n",
       "      <td>170635.722426</td>\n",
       "    </tr>\n",
       "    <tr>\n",
       "      <th>2718</th>\n",
       "      <td>225621.653967</td>\n",
       "    </tr>\n",
       "    <tr>\n",
       "      <th>2414</th>\n",
       "      <td>200558.113725</td>\n",
       "    </tr>\n",
       "    <tr>\n",
       "      <th>1989</th>\n",
       "      <td>145369.015846</td>\n",
       "    </tr>\n",
       "    <tr>\n",
       "      <th>625</th>\n",
       "      <td>182537.071491</td>\n",
       "    </tr>\n",
       "  </tbody>\n",
       "</table>\n",
       "</div>"
      ],
      "text/plain": [
       "          SalePrice\n",
       "Id                 \n",
       "2658  170635.722426\n",
       "2718  225621.653967\n",
       "2414  200558.113725\n",
       "1989  145369.015846\n",
       "625   182537.071491"
      ]
     },
     "execution_count": 55,
     "metadata": {},
     "output_type": "execute_result"
    }
   ],
   "source": [
    "top10_submission.to_csv('../model-submissions/top10_model.csv')\n",
    "\n",
    "top10_submission.head()"
   ]
  },
  {
   "cell_type": "markdown",
   "id": "764437c8-f468-47c6-b283-3b5429c2c502",
   "metadata": {},
   "source": [
    "All models above perform significantly better than a baseline (saleprice set to median) model given that their R-squared values are well over 0. This exploration can be deemed successful. \n",
    "\n",
    "The best performing model is the first one explored - unscaled multiple regression using all independent variables possible. This model works by finding the ordinary least squares line of best fit for the collection of datapoints in the training set. Plotting this would be difficult (requiring 3D space), but the model is essentially the line that most minimizes the sum of squared residuals (residuals being the distance of the predicted values from the actual values) in the 3D feature space. Using this model then on the training set should yield some accurate predictions.\n",
    "\n",
    "Note: With well over 200 independent variables used in the first three models, inference from model coefficients is very difficult (especially if scaled)."
   ]
  },
  {
   "cell_type": "markdown",
   "id": "fb8aa5e7-c45a-45c3-be96-2f4bb1177347",
   "metadata": {},
   "source": [
    "## Conclusions and Recommendations"
   ]
  },
  {
   "cell_type": "markdown",
   "id": "e0acc889-2c5b-4dc1-aae7-b6430168ed4c",
   "metadata": {},
   "source": [
    "Out of the four models explored in this analysis, the first multiple regression model incorporating all possible features shared between the train and test sets without any use of scaling appears to perform the best, albeit by a very slight margin over the Lasso CV and Ridge CV models. These models may rank differently using an evaluation metric besides R-squared, but this was not looked into. So, if there is a homeowner in need of help with their valuation, they should be referred to this unscaled multiple regression model. Any of the models created and tested herein would be of better use to a homeowner than simply assuming median sale price (baseline). \n",
    "\n",
    "As for recommendations / insights from this data specifically, some of the most important factors in improving sale price for a home seem to be the total area of the home in square feet, the overall quality of the home, the exterior design / maintenance, the size and car capacity of the garage, and how new the house is. Some of these were anticipated in the problem statement. Alas, if a homeowner is aiming to increase the sale value of their home, they should focus most on improving their standing in these features. For example, adding an extension to the house would very likely add value to the home. \n",
    "\n",
    "In the future, analysis should be done to see how much value each type of renovation adds to a home's resale value net renovation-related expenses. Such analysis would show what renovations offer the best return on investment for a homeowner. This information would be essential if the renovations are being done solely to boost resale value."
   ]
  }
 ],
 "metadata": {
  "kernelspec": {
   "display_name": "Python [conda env:dsi] *",
   "language": "python",
   "name": "conda-env-dsi-py"
  },
  "language_info": {
   "codemirror_mode": {
    "name": "ipython",
    "version": 3
   },
   "file_extension": ".py",
   "mimetype": "text/x-python",
   "name": "python",
   "nbconvert_exporter": "python",
   "pygments_lexer": "ipython3",
   "version": "3.9.12"
  }
 },
 "nbformat": 4,
 "nbformat_minor": 5
}
